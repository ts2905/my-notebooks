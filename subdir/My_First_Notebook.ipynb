{
  "nbformat": 4,
  "nbformat_minor": 0,
  "metadata": {
    "colab": {
      "name": "My First Notebook",
      "provenance": [],
      "authorship_tag": "ABX9TyOTYC/SSRYcXnzxwFZZtOi9",
      "include_colab_link": true
    },
    "kernelspec": {
      "name": "python3",
      "display_name": "Python 3"
    },
    "language_info": {
      "name": "python"
    }
  },
  "cells": [
    {
      "cell_type": "markdown",
      "metadata": {
        "id": "view-in-github",
        "colab_type": "text"
      },
      "source": [
        "<a href=\"https://colab.research.google.com/github/ts2905/my-notebooks/blob/main/subdir/My_First_Notebook.ipynb\" target=\"_parent\"><img src=\"https://colab.research.google.com/assets/colab-badge.svg\" alt=\"Open In Colab\"/></a>"
      ]
    },
    {
      "cell_type": "code",
      "metadata": {
        "id": "6A_9Z8FLCosw"
      },
      "source": [
        ""
      ],
      "execution_count": null,
      "outputs": []
    },
    {
      "cell_type": "markdown",
      "metadata": {
        "id": "NhH2RYhGDCzA"
      },
      "source": [
        "# My First Notebook!\n",
        "## Second Level Header\n",
        "\n",
        "This is a text cell. It uses the markdown language. The line above is a heading, starting with the # sign. Don't be confused that # means something different in .md and .py files.\n",
        "\n",
        "We can make links like [this](https://github.com/prof-rossetti/intro-to-python).\n",
        "\n",
        "And lists too:\n",
        "\n",
        "  + Item 1\n",
        "  + Item 2\n",
        "  + Item 3\n",
        "\n",
        "For more information about Markdown syntax, see the [Markdown Guide](https://guides.github.com/pdfs/markdown-cheatsheet-online.pdf)."
      ]
    },
    {
      "cell_type": "code",
      "metadata": {
        "colab": {
          "base_uri": "https://localhost:8080/"
        },
        "id": "4M-mV1knEtiq",
        "outputId": "f99efe7b-39bc-4cb4-b5e7-3f0dd4208662"
      },
      "source": [
        "# This is some example python code\n",
        "# These lines starting with # are \"comments\"\n",
        "# Don't be confused that # means something different in .md files than .py files\n",
        "\n",
        "print(\"HELLO WORLD!\")\n",
        "\n",
        "x = 2 + 2\n",
        "print(x)"
      ],
      "execution_count": 1,
      "outputs": [
        {
          "output_type": "stream",
          "text": [
            "HELLO WORLD!\n",
            "4\n"
          ],
          "name": "stdout"
        }
      ]
    }
  ]
}